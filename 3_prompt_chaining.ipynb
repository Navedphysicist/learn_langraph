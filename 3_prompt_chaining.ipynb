{
 "cells": [
  {
   "cell_type": "code",
   "execution_count": 20,
   "id": "13f75be6",
   "metadata": {},
   "outputs": [],
   "source": [
    "from langgraph.graph import StateGraph, START, END\n",
    "from langchain_openai import ChatOpenAI\n",
    "from typing import TypedDict\n",
    "from dotenv import load_dotenv"
   ]
  },
  {
   "cell_type": "code",
   "execution_count": 21,
   "id": "fd90fc66",
   "metadata": {},
   "outputs": [],
   "source": [
    "load_dotenv()\n",
    "model = ChatOpenAI(model='gpt-4o')"
   ]
  },
  {
   "cell_type": "code",
   "execution_count": 22,
   "id": "96b46c40",
   "metadata": {},
   "outputs": [],
   "source": [
    "class BlogState(TypedDict):\n",
    "\n",
    "    title: str\n",
    "    outline: str\n",
    "    content: str"
   ]
  },
  {
   "cell_type": "code",
   "execution_count": 30,
   "id": "6e943f99",
   "metadata": {},
   "outputs": [],
   "source": [
    "def create_outline(state: BlogState) -> BlogState:\n",
    "    \n",
    "    title = state['title']\n",
    "    \n",
    "    prompt = f\"Create the ouline for the {title}\"\n",
    "    \n",
    "    result = model.invoke(prompt)\n",
    "    \n",
    "    state['outline'] = result.content\n",
    "    \n",
    "    return state\n",
    "    "
   ]
  },
  {
   "cell_type": "code",
   "execution_count": 31,
   "id": "83a49c33",
   "metadata": {},
   "outputs": [],
   "source": [
    "def create_summary(state:BlogState):\n",
    "    \n",
    "    outline = state['outline']\n",
    "    \n",
    "    prompt = f\"Create the detailed summary for the follwing \\n {outline}\"\n",
    "    \n",
    "    result = model.invoke(prompt).content\n",
    "    \n",
    "    state['summary'] = result\n",
    "    \n",
    "    return state"
   ]
  },
  {
   "cell_type": "code",
   "execution_count": 32,
   "id": "08c35639",
   "metadata": {},
   "outputs": [
    {
     "data": {
      "text/plain": [
       "<langgraph.graph.state.StateGraph at 0x1289cba80>"
      ]
     },
     "execution_count": 32,
     "metadata": {},
     "output_type": "execute_result"
    }
   ],
   "source": [
    "#define graph\n",
    "\n",
    "\n",
    "graph = StateGraph(BlogState)\n",
    "\n",
    "graph.add_node('create_outline',create_outline)\n",
    "graph.add_node('create_summary',create_summary)\n",
    "\n",
    "graph.add_edge(START, 'create_outline')\n",
    "graph.add_edge('create_outline', 'create_summary')\n",
    "graph.add_edge('create_summary', END)\n",
    "\n",
    "\n"
   ]
  },
  {
   "cell_type": "code",
   "execution_count": 33,
   "id": "dc2c59b4",
   "metadata": {},
   "outputs": [
    {
     "name": "stdout",
     "output_type": "stream",
     "text": [
      "{'title': 'Rise of AI in India', 'outline': \"Title: The Rise of AI in India\\n\\nI. Introduction\\n   A. Definition of Artificial Intelligence\\n   B. Overview of AI's global impact\\n   C. Significance of AI's growth in India\\n\\nII. Historical Background\\n   A. Early developments of AI in India\\n   B. Key milestones and government initiatives\\n   C. Influence of global AI trends on India\\n\\nIII. Drivers of AI Growth in India\\n   A. Economic factors\\n      1. Increasing investments and funding\\n      2. Rise of AI startups\\n   B. Technological advancements\\n      1. Improved infrastructure and technology\\n      2. Growth in data availability\\n   C. Government and policy support\\n      1. National AI Strategy and policies\\n      2. Public-private partnerships\\n\\nIV. Key AI Sectors in India\\n   A. Healthcare\\n      1. AI applications in diagnostics and treatment\\n      2. Case studies and examples\\n   B. Agriculture\\n      1. AI in crop management and yield prediction\\n      2. Impact on rural development\\n   C. Finance and Banking\\n      1. AI in fraud detection and personalized banking\\n      2. Benefits to financial inclusion\\n   D. Education\\n      1. AI-driven personalized learning\\n      2. Improvements in educational accessibility\\n   E. Autonomous Systems and Robotics\\n      1. Developments in robotics and machine learning\\n      2. Application in manufacturing and services\\n\\nV. Challenges Facing AI in India\\n   A. Data privacy and security concerns\\n   B. Skills gap and labor market implications\\n   C. Ethical and bias-related issues\\n   D. Infrastructure and resource limitations\\n\\nVI. Future Prospects of AI in India\\n   A. Potential economic impacts and growth forecasts\\n   B. Opportunities for innovation and leadership\\n   C. Vision for societal transformation through AI\\n\\nVII. Conclusion\\n   A. Summary of AI's transformative role in India\\n   B. Emphasizing the need for balanced development\\n   C. Final thoughts on the future landscape of AI in India\\n\\nVIII. References\\n   A. Cited studies, papers, and articles\\n   B. Government reports and policy documents\\n   C. Books and other relevant literature\\n\\nAppendix (if necessary)\\n   A. Additional charts, graphs, and data\\n   B. Glossary of AI-related terms and concepts\"}\n"
     ]
    }
   ],
   "source": [
    "workflow = graph.compile()\n",
    "\n",
    "\n",
    "initial_state = {'title': 'Rise of AI in India'}\n",
    "\n",
    "final_state = workflow.invoke(initial_state)\n",
    "\n",
    "print(final_state)"
   ]
  }
 ],
 "metadata": {
  "kernelspec": {
   "display_name": "myenv",
   "language": "python",
   "name": "python3"
  },
  "language_info": {
   "codemirror_mode": {
    "name": "ipython",
    "version": 3
   },
   "file_extension": ".py",
   "mimetype": "text/x-python",
   "name": "python",
   "nbconvert_exporter": "python",
   "pygments_lexer": "ipython3",
   "version": "3.13.0"
  }
 },
 "nbformat": 4,
 "nbformat_minor": 5
}
