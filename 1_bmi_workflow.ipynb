{
 "cells": [
  {
   "cell_type": "code",
   "execution_count": 4,
   "id": "a0f859aa",
   "metadata": {},
   "outputs": [],
   "source": [
    "from langgraph.graph import StateGraph,START,END\n",
    "from typing import TypedDict"
   ]
  },
  {
   "cell_type": "code",
   "execution_count": null,
   "id": "709ec30a",
   "metadata": {},
   "outputs": [],
   "source": [
    "# define state\n",
    "class BMIState(TypedDict):\n",
    "    \n",
    "    weight_kg : float\n",
    "    height_m : float\n",
    "    bmi : float\n",
    "    category: str"
   ]
  },
  {
   "cell_type": "code",
   "execution_count": 7,
   "id": "502f1a63",
   "metadata": {},
   "outputs": [],
   "source": [
    "def calculate_bmi(state:BMIState) -> BMIState:\n",
    "    \n",
    "    weight = state['weight_kg']\n",
    "    height = state['height_m']\n",
    "    bmi = weight/(height ** 2)\n",
    "    \n",
    "    state['bmi'] = round(bmi,2)\n",
    "    \n",
    "    return state\n",
    "    "
   ]
  },
  {
   "cell_type": "code",
   "execution_count": null,
   "id": "5ba1ac03",
   "metadata": {},
   "outputs": [],
   "source": [
    "def get_category(state:BMIState) -> BMIState:\n",
    "    bmi = state['bmi']\n",
    "\n",
    "    if bmi < 18.5:\n",
    "        state[\"category\"] = \"Underweight\"\n",
    "    elif 18.5 <= bmi < 25:\n",
    "        state[\"category\"] = \"Normal\"\n",
    "    elif 25 <= bmi < 30:\n",
    "        state[\"category\"] = \"Overweight\"\n",
    "    else:\n",
    "        state[\"category\"] = \"Obese\"\n",
    "        \n",
    "    return state"
   ]
  },
  {
   "cell_type": "code",
   "execution_count": null,
   "id": "c857ba54",
   "metadata": {},
   "outputs": [],
   "source": [
    "# define your graph\n",
    "graph = StateGraph(BMIState)\n",
    "\n",
    "# add nodes to your graph\n",
    "graph.add_node('calculate_bmi',calculate_bmi)\n",
    "graph.add_node('get_category',get_category)\n",
    "\n",
    "# add edges to your graph\n",
    "graph.add_edge(START, 'calculate_bmi')\n",
    "graph.add_edge('calculate_bmi','get_category')\n",
    "graph.add_edge('get_category',END)\n",
    "\n",
    "# compile the graph\n",
    "workflow = graph.compile()"
   ]
  },
  {
   "cell_type": "code",
   "execution_count": 10,
   "id": "acdcce86",
   "metadata": {},
   "outputs": [],
   "source": [
    "# execute the graph\n",
    "\n",
    "intial_state = {'weight_kg':80, 'height_m':1.73}\n",
    "\n",
    "final_state = workflow.invoke(intial_state)"
   ]
  },
  {
   "cell_type": "code",
   "execution_count": 11,
   "id": "15fe51e5",
   "metadata": {},
   "outputs": [
    {
     "name": "stdout",
     "output_type": "stream",
     "text": [
      "{'weight_kg': 80, 'height_m': 1.73, 'bmi': 26.73, 'category': 'Overweight'}\n"
     ]
    }
   ],
   "source": [
    "print(final_state)\n"
   ]
  },
  {
   "cell_type": "code",
   "execution_count": 12,
   "id": "7f6fe249",
   "metadata": {},
   "outputs": [
    {
     "data": {
      "image/png": "[encoded data removed]",
      "text/plain": [
       "<IPython.core.display.Image object>"
      ]
     },
     "execution_count": 12,
     "metadata": {},
     "output_type": "execute_result"
    }
   ],
   "source": [
    "from IPython.display import Image\n",
    "Image(workflow.get_graph().draw_mermaid_png())"
   ]
  },
  {
   "cell_type": "code",
   "execution_count": null,
   "id": "45090ec4",
   "metadata": {},
   "outputs": [],
   "source": []
  }
 ],
 "metadata": {
  "kernelspec": {
   "display_name": "myenv",
   "language": "python",
   "name": "python3"
  },
  "language_info": {
   "codemirror_mode": {
    "name": "ipython",
    "version": 3
   },
   "file_extension": ".py",
   "mimetype": "text/x-python",
   "name": "python",
   "nbconvert_exporter": "python",
   "pygments_lexer": "ipython3",
   "version": "3.13.0"
  }
 },
 "nbformat": 4,
 "nbformat_minor": 5
}
